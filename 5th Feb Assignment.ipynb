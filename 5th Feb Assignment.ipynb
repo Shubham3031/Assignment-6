{
 "cells": [
  {
   "cell_type": "code",
   "execution_count": 10,
   "id": "43553764-8331-48a5-ba62-f234435a4383",
   "metadata": {},
   "outputs": [
    {
     "name": "stdout",
     "output_type": "stream",
     "text": [
      "Lion\n",
      "The King Of Forest :-  Lion\n",
      "Fast Runner :-  Tiger\n"
     ]
    }
   ],
   "source": [
    "# 1.Ans.\n",
    "\"\"\"\n",
    "A class is a user-defined blueprint or prototype from which objects are created. \n",
    "Classes provide a means of bundling data and functionality together.\n",
    "\n",
    "Syntax of class:-\n",
    "class className:\n",
    "    Statement\n",
    "\n",
    "An Object is an instance of a Class. \n",
    "A class is like a blueprint while an instance is a copy of the class with actual values.\n",
    "\n",
    "Syntax of object:-\n",
    "obj = className()\n",
    "print(obj.attr)\n",
    "\"\"\"\n",
    "\n",
    "# Example to show the class and object\n",
    "\n",
    "\n",
    "class animal:\n",
    "\n",
    "\tname1 = \"Lion\"\n",
    "\tname2 = \"Tiger\"\n",
    "\n",
    "\tdef love(self):\n",
    "\t\tprint(\"The King Of Forest :- \", self.name1)\n",
    "\t\tprint(\"Fast Runner :- \", self.name2)\n",
    "\n",
    "obj = animal()\n",
    "\n",
    "print(obj.name1)\n",
    "obj.love()\n",
    "\n",
    "\n",
    "\n"
   ]
  },
  {
   "cell_type": "code",
   "execution_count": null,
   "id": "b73c288b-ca20-4101-9e07-6fc500e13e60",
   "metadata": {},
   "outputs": [],
   "source": [
    "# 2.Ans.\n",
    "The four Pillars of OOPS are :-\n",
    "\n",
    "1.Polymorphism\n",
    "2.Encapsulation\n",
    "3.Inheritance\n",
    "4.Data Abstraction\n",
    "\n"
   ]
  },
  {
   "cell_type": "code",
   "execution_count": 13,
   "id": "4dfe8e71-18d1-4d04-87b9-9c3ab4411188",
   "metadata": {},
   "outputs": [
    {
     "name": "stdout",
     "output_type": "stream",
     "text": [
      "My name is :  Shubham Mishra\n"
     ]
    }
   ],
   "source": [
    "# 3.Ans.\n",
    "\"\"\"\n",
    "All classes have a function called __init__(), which is always executed when the class is being initiated.\n",
    "\n",
    "The __init__() function is use  to assign values to object properties,\n",
    "or other operations that are necessary to do when the object is being created.\n",
    "\"\"\"\n",
    "\n",
    "# Example \n",
    "class hello:\n",
    "    def __init__(self,name):\n",
    "        self.name = name\n",
    "    \n",
    "    def love(self):\n",
    "        print(\"My name is : \" , self.name)\n",
    "        \n",
    "h = hello(\"Shubham Mishra\")\n",
    "h.love()\n",
    "    \n",
    "    \n",
    "    \n",
    "    \n",
    "    \n",
    "    "
   ]
  },
  {
   "cell_type": "code",
   "execution_count": null,
   "id": "855ccac9-162a-4547-9599-e187aaba4908",
   "metadata": {},
   "outputs": [],
   "source": [
    "# 4.Ans.\n",
    "\n",
    "self represents the instance of the class.\n",
    "By using the self  we can access the attributes and methods of the class in python.\n",
    "It binds the attributes with the given arguments.\n",
    "The reason you need to use self is because\n",
    "Python does not use the @ syntax to refer to instance attributes. "
   ]
  },
  {
   "cell_type": "code",
   "execution_count": 22,
   "id": "d790d624-eabb-4f2d-968d-39ac96b9ede4",
   "metadata": {},
   "outputs": [],
   "source": [
    "# 5.Ans.\n",
    "\"\"\"\n",
    "Inheritance allows us to define a class that inherits all the methods and properties from another class.\n",
    "\n",
    "Parent class is the class being inherited from, also called base class.\n",
    "\n",
    "Child class is the class that inherits from another class, also called derived class.\n",
    "\"\"\"\n",
    "\n",
    "In Python 3 types of Inheritance are possible :-\n",
    "\n",
    "# 1. Example of Single Inheritance\n",
    "\n",
    "class Animal:\n",
    "    def eat(self):\n",
    "        print(\"Eating food\")\n",
    "    \n",
    "class lion(Animal):\n",
    "    def king(self):\n",
    "        print(\"Royal\")\n",
    "        \n",
    "# 2. Example of Multiple Inheritance\n",
    "\n",
    "class base1:\n",
    "    def fly(self):\n",
    "        print(\"Flying...\")\n",
    "\n",
    "class base2:\n",
    "    def swim(self):\n",
    "        print(\"Swimming...\")\n",
    "\n",
    "class bas3(base1, base2):\n",
    "    def quack(self):\n",
    "        print(\"Quack\")\n",
    "        \n",
    "# 3.Example of Multilevel Inheritance\n",
    "\n",
    "class Animal1:\n",
    "    def eat(self):\n",
    "        print(\"Eating\")\n",
    "class Animal2(Animal1):\n",
    "    def swim(self):\n",
    "        print(\"Swimming\")\n",
    "class Animal3(Animal2):\n",
    "    def run(self):\n",
    "        print(\"Running\")\n",
    "\n",
    "\n",
    "    \n",
    "  \n",
    "        \n",
    "\n"
   ]
  }
 ],
 "metadata": {
  "kernelspec": {
   "display_name": "Python 3 (ipykernel)",
   "language": "python",
   "name": "python3"
  },
  "language_info": {
   "codemirror_mode": {
    "name": "ipython",
    "version": 3
   },
   "file_extension": ".py",
   "mimetype": "text/x-python",
   "name": "python",
   "nbconvert_exporter": "python",
   "pygments_lexer": "ipython3",
   "version": "3.10.6"
  }
 },
 "nbformat": 4,
 "nbformat_minor": 5
}
